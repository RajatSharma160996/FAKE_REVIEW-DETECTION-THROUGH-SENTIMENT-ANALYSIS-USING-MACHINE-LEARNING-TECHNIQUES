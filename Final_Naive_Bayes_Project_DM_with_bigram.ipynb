{
  "nbformat": 4,
  "nbformat_minor": 0,
  "metadata": {
    "colab": {
      "name": "Naive_Bayes_Project_DM_with_bigram.ipynb",
      "version": "0.3.2",
      "provenance": [],
      "collapsed_sections": []
    },
    "kernelspec": {
      "name": "python3",
      "display_name": "Python 3"
    },
    "accelerator": "GPU"
  },
  "cells": [
    {
      "metadata": {
        "id": "T0glBVcwnqIe",
        "colab_type": "code",
        "outputId": "623eec41-327d-4048-c398-7b45a3bd7edd",
        "colab": {
          "base_uri": "https://localhost:8080/",
          "height": 34
        }
      },
      "cell_type": "code",
      "source": [
        "from google.colab import drive\n",
        "drive.mount('/content/drive')"
      ],
      "execution_count": 1,
      "outputs": [
        {
          "output_type": "stream",
          "text": [
            "Drive already mounted at /content/drive; to attempt to forcibly remount, call drive.mount(\"/content/drive\", force_remount=True).\n"
          ],
          "name": "stdout"
        }
      ]
    },
    {
      "metadata": {
        "id": "-1-dI07LDSaA",
        "colab_type": "text"
      },
      "cell_type": "markdown",
      "source": [
        "***IMPORT ALL LIBRARIES***"
      ]
    },
    {
      "metadata": {
        "id": "HfJRC9oefs2y",
        "colab_type": "code",
        "outputId": "115a18f1-b827-410b-b3a3-cde56d52b0ed",
        "colab": {
          "base_uri": "https://localhost:8080/",
          "height": 87
        }
      },
      "cell_type": "code",
      "source": [
        "import csv\n",
        "import pandas as pd\n",
        "import numpy as np\n",
        "from random import shuffle\n",
        "#import chardet\n",
        "from sklearn.utils import shuffle\n",
        "import nltk\n",
        "from nltk.tokenize import word_tokenize\n",
        "from random import shuffle\n",
        "from sklearn.feature_extraction.text import CountVectorizer\n",
        "nltk.download('wordnet')\n",
        "from nltk.corpus import stopwords\n",
        "nltk.download('stopwords')\n",
        "from nltk.tokenize import RegexpTokenizer\n",
        "from nltk.stem import WordNetLemmatizer\n",
        "from nltk.util import ngrams\n",
        "import string\n",
        "import math\n",
        "import matplotlib.pyplot as plt; plt.rcdefaults()\n",
        "import matplotlib.pyplot as plt\n",
        "import warnings\n",
        "warnings.filterwarnings(\"ignore\")\n",
        "\n"
      ],
      "execution_count": 2,
      "outputs": [
        {
          "output_type": "stream",
          "text": [
            "[nltk_data] Downloading package wordnet to /root/nltk_data...\n",
            "[nltk_data]   Package wordnet is already up-to-date!\n",
            "[nltk_data] Downloading package stopwords to /root/nltk_data...\n",
            "[nltk_data]   Package stopwords is already up-to-date!\n"
          ],
          "name": "stdout"
        }
      ]
    },
    {
      "metadata": {
        "id": "Ru2k-FuBDAig",
        "colab_type": "text"
      },
      "cell_type": "markdown",
      "source": [
        "***UNIVERSAL VARIABLE DECLARATION***"
      ]
    },
    {
      "metadata": {
        "id": "e4q0IJcxfs3O",
        "colab_type": "code",
        "colab": {}
      },
      "cell_type": "code",
      "source": [
        "#universal variable decleration\n",
        "dataset=[]\n",
        "trainData=[]\n",
        "testData=[]\n",
        "trainData_label=[]\n",
        "testData_label=[]\n",
        "num_messages = {}\n",
        "log_class_priors = {}\n",
        "word_counts = {}\n",
        "vocab = set()\n",
        "table = str.maketrans({key: None for key in string.punctuation})\n",
        "class_name=['REAL','FAKE']\n",
        "label=[]\n",
        "data=[]\n",
        "word_counts['REAL'] = {}\n",
        "word_counts['FAKE'] = {}\n",
        "cv_result=[]"
      ],
      "execution_count": 0,
      "outputs": []
    },
    {
      "metadata": {
        "id": "vWD59EI3DxJY",
        "colab_type": "text"
      },
      "cell_type": "markdown",
      "source": [
        "***DEFINE PATH &***\n",
        "***CLEAN DATASET***"
      ]
    },
    {
      "metadata": {
        "id": "lmzpF7Sifs3A",
        "colab_type": "code",
        "colab": {}
      },
      "cell_type": "code",
      "source": [
        "\n",
        "\n",
        "path=r\"/content/drive/My Drive/Colab Notebooks/amazon_dataset_final.csv\"\n",
        "df=pd.read_csv(path,encoding='cp1252')\n",
        "df=df.sample(frac=1).reset_index(drop = True)\n",
        "df=df.replace({'LABEL':{'__label1__':'FAKE','__label2__':'REAL'}})\n",
        "label=df['LABEL'].tolist()\n",
        "df2=df\n",
        "df2 = df2.drop(\"LABEL\", axis=1)\n",
        "r,c=df2.shape\n",
        "#df2.head()\n",
        "\n",
        "\n"
      ],
      "execution_count": 0,
      "outputs": []
    },
    {
      "metadata": {
        "id": "XiHqfwjYgpbc",
        "colab_type": "text"
      },
      "cell_type": "markdown",
      "source": [
        "***VISUALIZATION OF DATASET***"
      ]
    },
    {
      "metadata": {
        "id": "xLowGXtJe4LX",
        "colab_type": "code",
        "colab": {
          "base_uri": "https://localhost:8080/",
          "height": 486
        },
        "outputId": "4f42e779-b62d-413f-fd00-10b778e99c5c"
      },
      "cell_type": "code",
      "source": [
        "count_real=0\n",
        "count_fake=0\n",
        "for x in label:\n",
        "  if x == 'REAL':\n",
        "    count_real +=1\n",
        "  else:\n",
        "    count_fake +=1\n",
        "\n",
        "count_rf=[count_real,count_fake] \n",
        "# Data to plot\n",
        "labelss = 'REAL', 'FAKE'\n",
        "labelss1=count_real,count_fake\n",
        "\n",
        "colors = ['lightskyblue','yellowgreen']\n",
        "explode = (0.1, 0)  # explode 1st slice\n",
        " \n",
        "\n",
        "plt.pie(count_rf, explode=explode, labels=labelss1, colors=colors,autopct='%1.1f%%', shadow=True, startangle=140)\n",
        "plt.axis('equal')\n",
        "plt.legend(labelss)\n",
        "plt.tight_layout()\n",
        "plt.show()"
      ],
      "execution_count": 5,
      "outputs": [
        {
          "output_type": "display_data",
          "data": {
            "image/png": "[encoded data removed]",
            "text/plain": [
              "<Figure size 640x480 with 1 Axes>"
            ]
          },
          "metadata": {
            "tags": []
          }
        }
      ]
    },
    {
      "metadata": {
        "id": "CYLqw9GhENvN",
        "colab_type": "text"
      },
      "cell_type": "markdown",
      "source": [
        "***PARSE FUNCTION TO PARSE DATASET AND TAKE IMPORTANT FEATURES FROM IT***"
      ]
    },
    {
      "metadata": {
        "id": "iMACxvJifs29",
        "colab_type": "code",
        "colab": {}
      },
      "cell_type": "code",
      "source": [
        "def parse(review):\n",
        " \n",
        "    return (review[1],review[2],review[3],review[6],review[7])\n"
      ],
      "execution_count": 0,
      "outputs": []
    },
    {
      "metadata": {
        "id": "vHOzwbpBFKhP",
        "colab_type": "text"
      },
      "cell_type": "markdown",
      "source": [
        "***TEXT PREPROCESSING FUNCTION***\n",
        "\n",
        "\n",
        "\n",
        "\n",
        "*    STOP WORD REMOVAL\n",
        "\n",
        "*   PUNCTUATIONS REMOVAL\n",
        "*  LEMMATIZATION\n",
        "\n",
        "\n",
        "*  nltk BIGRAM / UNIGRAM CFREATION\n",
        "\n",
        "\n",
        "\n",
        "\n",
        "\n"
      ]
    },
    {
      "metadata": {
        "id": "SKOVdt49fs3T",
        "colab_type": "code",
        "colab": {}
      },
      "cell_type": "code",
      "source": [
        "# TEXT PREPROCESSING AND FEATURE VECTORIZATION\n",
        "# Input: a string of one review\n",
        "# t={key: None for key in string.punctuation} #It will return none for puntuations\n",
        "\n",
        "\n",
        "def preprocess(text):\n",
        "    lemmatizer = WordNetLemmatizer()\n",
        "    filtered_tokens=[]\n",
        "    lemmatized_tokens = []\n",
        "    stop_words = set(stopwords.words('english'))\n",
        "    text = text.translate(table) # translation of text is done here punctuations are replaced with none\n",
        "    for w in text.split(\" \"):\n",
        "        if w not in stop_words:\n",
        "            lemmatized_tokens.append(lemmatizer.lemmatize(w.lower()))\n",
        "        filtered_tokens = [' '.join(l) for l in nltk.bigrams(lemmatized_tokens)] + lemmatized_tokens #nltk bigrams will make pair of word occur together mrore frequently\n",
        "        #here ' '.join(l) means it will join the words from the list (here it is l of iterable) with ' ' delimeter in between. \n",
        "    return filtered_tokens #lemmatized_tokens  #filtered_tokens\n",
        "    \n",
        "    "
      ],
      "execution_count": 0,
      "outputs": []
    },
    {
      "metadata": {
        "id": "J5HkMzLFGdgu",
        "colab_type": "text"
      },
      "cell_type": "markdown",
      "source": [
        "***WORD COUNT FUNCTION***\n",
        "\n",
        "\n",
        "\n",
        "*   IT RETURNS COUNT OF WORDS IN A  PARTICULAR REVIEW \n",
        "\n",
        "\n",
        "\n",
        "\n"
      ]
    },
    {
      "metadata": {
        "id": "2r69T5bzfs56",
        "colab_type": "code",
        "colab": {}
      },
      "cell_type": "code",
      "source": [
        "def get_word_counts(x1):\n",
        "  word_count = {}\n",
        "  for word in x1:\n",
        "    word_count[word] = word_count.get(word, 0.0) + 1.0\n",
        "  return word_count"
      ],
      "execution_count": 0,
      "outputs": []
    },
    {
      "metadata": {
        "id": "iT0DAvKnltg8",
        "colab_type": "text"
      },
      "cell_type": "markdown",
      "source": [
        "**LOG_CLASS_PRIOR FUNCTION  TO CLACULATE LOG PRIORITY OF THE PARTICULAR CLASS**"
      ]
    },
    {
      "metadata": {
        "id": "lhxJC2-qy9K0",
        "colab_type": "code",
        "colab": {}
      },
      "cell_type": "code",
      "source": [
        "#calculate log proior of real and fake\n",
        "def LOG_CLASS_PRIOR(trainData_label1):\n",
        "  n=len(trainData_label1)\n",
        "  num_messages1={}\n",
        "  log_class_priors1={}\n",
        "  \n",
        "  num_messages1['REAL'] = sum(1 for l in trainData_label1 if l == 'REAL')\n",
        "  num_messages1['FAKE'] = sum(1 for l in trainData_label1 if l == 'FAKE')\n",
        "\n",
        "  log_class_priors1['REAL'] = math.log(num_messages1['REAL'] / n)\n",
        "  log_class_priors1['FAKE'] = math.log(num_messages1['FAKE'] / n)\n",
        "  \n",
        "  return num_messages1,log_class_priors1\n",
        "  "
      ],
      "execution_count": 0,
      "outputs": []
    },
    {
      "metadata": {
        "id": "qZ7T7QkxmFhz",
        "colab_type": "text"
      },
      "cell_type": "markdown",
      "source": [
        "***TRAIN CLASSIFIER  TO TRAIN MODEL***\n",
        "\n",
        "\n",
        "\n",
        "*    THIS FUNCTION TAKES THE DATASET AND LABEL AS INPUT AND THEN ZIP IT  ALONG AXIS =1, THEN COUNT NO OF WORDS IN EACH REVIEW TUPLE  THEN ADD IT TO THE GLOBAL VOCABULARY AND ALSO INTO THE DICTIONARY OF RESPECTIVE CLASS, AND THEN RETURN WORD_COUNT DICTIONARY \n",
        "\n",
        "\n",
        "\n",
        "\n"
      ]
    },
    {
      "metadata": {
        "id": "mYOw1vo2fs50",
        "colab_type": "code",
        "colab": {}
      },
      "cell_type": "code",
      "source": [
        "def trainClassifier(dataset2,label2):\n",
        " \n",
        "  for x, y in zip(dataset2, label2):\n",
        "    counts = get_word_counts(x)\n",
        "    for word1, count1 in counts.items():\n",
        "      if word1 not in vocab:\n",
        "        vocab.add(word1)\n",
        "        \n",
        "      if word1 not in word_counts[y]:\n",
        "        word_counts[y][word1] = 0.0\n",
        "         \n",
        "      word_counts[y][word1] += count1\n",
        "      \n",
        "      \n",
        "  return word_counts\n",
        "  \n",
        "  "
      ],
      "execution_count": 0,
      "outputs": []
    },
    {
      "metadata": {
        "id": "QirXnMq3nK30",
        "colab_type": "text"
      },
      "cell_type": "markdown",
      "source": [
        "***PREDICT FUNCTION IS FOR PREDICTION OF RESULT AFTER TRAING HAS BEEN DONE BY THE CLASSIFIER  ***\n",
        "\n",
        "\n",
        "\n",
        "\n",
        "\n",
        "*   IT TAKES TESTDATA_SET , CLASSIFIER OUTPUT, LOGCLASS_PRIOR AND NUM_MESSAGE (DICTIONARY) AS INPUT\n",
        "*   IT THEN CLACULATES THE LOG PROBABILITY OF EACH WORD IN EACH TUPLE OF TEST DATA, W.R.P.T EACH LABEL(CLASS) , AND ASSIGN LABEL TO THAT REVIEW DATA THE CLASS LABEL WITH THE HIGHEST LOG PROBABILITY\n",
        "\n",
        "\n",
        "\n",
        "\n"
      ]
    },
    {
      "metadata": {
        "id": "AVLEw_Br14oH",
        "colab_type": "code",
        "colab": {}
      },
      "cell_type": "code",
      "source": [
        "def predict(testData1,classifier1,log_class_priors2,num_messages2):\n",
        "    result = []\n",
        "    for x in testData1:\n",
        "        counts1 = get_word_counts(x)\n",
        "        REAL_score = 0\n",
        "        FAKE_score = 0\n",
        "        for word2, _ in counts1.items():\n",
        "            if word2 not in vocab: continue\n",
        "            \n",
        "            # add Laplace smoothing\n",
        "            log_w_given_FAKE = math.log( (classifier1['FAKE'].get(word2, 0.0) + 1) / (num_messages2['FAKE'] + len(vocab)) )\n",
        "            log_w_given_REAL = math.log( (classifier1['REAL'].get(word2, 0.0) + 1) / (num_messages2['REAL'] + len(vocab)) )\n",
        " \n",
        "            FAKE_score = FAKE_score+log_w_given_FAKE\n",
        "            REAL_score = REAL_score+log_w_given_REAL\n",
        " \n",
        "        FAKE_score = FAKE_score+ log_class_priors2['FAKE']\n",
        "        REAL_score = REAL_score+ log_class_priors2['REAL']\n",
        " \n",
        "        if FAKE_score > REAL_score:\n",
        "            result.append('FAKE')\n",
        "        else:\n",
        "            result.append('REAL')\n",
        "    return result\n",
        "\n",
        "  "
      ],
      "execution_count": 0,
      "outputs": []
    },
    {
      "metadata": {
        "id": "FugQYrssofjP",
        "colab_type": "text"
      },
      "cell_type": "markdown",
      "source": [
        "***ACUURACY FUNCTION TO CLCULATE ACCURACY OF THE CLASSIFIER***\n",
        "\n",
        " \n",
        "*   HERE THE ACCURACY IS CALCULATED BY COMPARING OUTPUT OF THE PREDICTION FUNCTION WITH THE TEST LABEL DATA \n",
        "\n",
        "\n",
        "\n",
        "\n",
        "\n"
      ]
    },
    {
      "metadata": {
        "id": "1ZBKh6K014rD",
        "colab_type": "code",
        "colab": {}
      },
      "cell_type": "code",
      "source": [
        "# Accuracy prdiction\n",
        "def Accuracy(true,pred):\n",
        "  accuracy = sum(1 for i in range(len(pred)) if pred[i] == true[i]) / float(len(pred))\n",
        "  #print(\"{0:.4f}\".format(accuracy))\n",
        "  return accuracy\n"
      ],
      "execution_count": 0,
      "outputs": []
    },
    {
      "metadata": {
        "id": "TdmFN0F6qccg",
        "colab_type": "text"
      },
      "cell_type": "markdown",
      "source": [
        "***PRECISION FUNCTION ***\n",
        "\n",
        "\n",
        "\n",
        "*   IT COMPUTE THE PRECISION OF THE CLASSIFIER\n",
        "*   FORMULA IS  **TP/(TP+FP**)\n",
        "\n",
        "\n",
        "\n",
        "\n",
        "\n",
        "\n",
        "\n"
      ]
    },
    {
      "metadata": {
        "id": "BYAVmaeCfs3J",
        "colab_type": "code",
        "colab": {}
      },
      "cell_type": "code",
      "source": [
        "#precision \n",
        "def Precision(true,pred):\n",
        "  precision=0\n",
        "  TP=0\n",
        "  FP=0\n",
        "  for x,y in zip(true,pred):\n",
        "    if x==y=='FAKE':\n",
        "      TP=TP+1\n",
        "    if x=='REAL'and y=='FAKE':\n",
        "      FP=FP+1\n",
        "  #print(TP,FP)\n",
        "  precision = TP/(TP+FP)\n",
        "\n",
        "  #print(precision)\n",
        "  return precision\n",
        "\n"
      ],
      "execution_count": 0,
      "outputs": []
    },
    {
      "metadata": {
        "id": "4hlhtjJ-qNRV",
        "colab_type": "text"
      },
      "cell_type": "markdown",
      "source": [
        "***RECALL FUNCTION***\n",
        "\n",
        "\n",
        "\n",
        "*   IT COMPUTE THE RECALL OF THE CLASSIFIER\n",
        "\n",
        "*   FORMULA IS **TP/(TP+FN)**\n",
        "\n",
        "\n",
        "\n",
        "\n"
      ]
    },
    {
      "metadata": {
        "id": "6rGCf6QRfs59",
        "colab_type": "code",
        "colab": {}
      },
      "cell_type": "code",
      "source": [
        "#recall\n",
        "def Recall(true,pred):\n",
        "  recall=0\n",
        "  TP=0\n",
        "  FN=0\n",
        "  for x,y in zip(true,pred):\n",
        "    if x==y=='FAKE':\n",
        "      TP=TP+1\n",
        "    if x=='FAKE'and y=='REAL':\n",
        "      FN=FN+1\n",
        "  #print(TP,FN)\n",
        "  recall = TP/(TP+FN)\n",
        "  #print(TP,FN)\n",
        "  #print(recall)\n",
        "  return recall\n"
      ],
      "execution_count": 0,
      "outputs": []
    },
    {
      "metadata": {
        "id": "ujtCKbdirS_m",
        "colab_type": "text"
      },
      "cell_type": "markdown",
      "source": [
        "***F1 SCORE FUNCTION***\n",
        "\n",
        "*   IT CALCULATES F1 SCORE OF THE CLASSIFIER\n",
        "*   FORMULA IS  **2 x PRECISION x RECALL/ ( PRECISION + RECALL)** \n",
        "\n",
        "\n",
        "\n",
        "\n",
        "\n",
        "\n",
        "\n"
      ]
    },
    {
      "metadata": {
        "id": "4OXa2aKFfs6D",
        "colab_type": "code",
        "colab": {}
      },
      "cell_type": "code",
      "source": [
        "#F1 score\n",
        "def F1_SCORE(precision,recall):\n",
        "  F1_score=0\n",
        "  F1_score =(precision*recall*2)/(precision+recall)\n",
        "  #print(F1_score)\n",
        "  return F1_score\n"
      ],
      "execution_count": 0,
      "outputs": []
    },
    {
      "metadata": {
        "id": "d_kQteLjsoxW",
        "colab_type": "text"
      },
      "cell_type": "markdown",
      "source": [
        "***DATASET CREATION ***\n",
        " \n",
        "\n",
        "*   HERE  I CREATES LIST WHICH CONTAIN ALL THE TUPLES OF DATAFRAME\n",
        "*   THEN PASS EACH TUPLE TO PARSE FUNCTION THEN SOTRE THE RETURN VALVE IN NEW LIST\n",
        "\n",
        "\n",
        "\n",
        "\n",
        "\n"
      ]
    },
    {
      "metadata": {
        "id": "uPx8SyOnfs3G",
        "colab_type": "code",
        "colab": {}
      },
      "cell_type": "code",
      "source": [
        "dataset=list(df2.values)\n",
        "dataset[0]\n",
        "\n",
        "for i in range(r):\n",
        "    (rating,vf,product_category,review_title,Text) = parse(dataset[i])\n",
        "    data.append((rating,vf,product_category,review_title,Text))\n",
        "\n",
        "\n",
        "#data[0]"
      ],
      "execution_count": 0,
      "outputs": []
    },
    {
      "metadata": {
        "id": "Y-0x0rQ7tE_q",
        "colab_type": "text"
      },
      "cell_type": "markdown",
      "source": [
        "***SPLIT FUNCTION TO SPLIT TYHE DATASET INTO TRAIN AND TEST DATASET***"
      ]
    },
    {
      "metadata": {
        "id": "r6nEOeZPfs3X",
        "colab_type": "code",
        "colab": {}
      },
      "cell_type": "code",
      "source": [
        "def split(percent):\n",
        "    dataSamples = len(data)\n",
        "    halfOfData = int(len(data)/2)\n",
        "    trainingSamples = int((percent*dataSamples)/2)\n",
        "    \n",
        "    for (rating,vf,product_category,review_title,Text) in data[:trainingSamples] + data[halfOfData:halfOfData+trainingSamples]:\n",
        "      trainData.append((preprocess(f'{rating} {vf} {product_category} {review_title+Text}')))\n",
        "    \n",
        "    for x in label[:trainingSamples]+label[halfOfData:halfOfData+trainingSamples]:\n",
        "      trainData_label.append(x)\n",
        "    \n",
        "    for (rating,vf,product_category,review_title,Text) in data[trainingSamples:halfOfData] + data[halfOfData+trainingSamples:]:\n",
        "      testData.append((preprocess(f'{rating} {vf} {product_category} {review_title+Text}')))\n",
        "     \n",
        "    for x in label[trainingSamples:halfOfData]+label[halfOfData+trainingSamples:]:\n",
        "      testData_label.append(x)\n",
        "    "
      ],
      "execution_count": 0,
      "outputs": []
    },
    {
      "metadata": {
        "id": "V7prYhept130",
        "colab_type": "text"
      },
      "cell_type": "markdown",
      "source": [
        "***CROSS VALIDATION  FUNCTION***\n",
        "\n",
        "\n",
        "\n",
        "*  IT CROSS VALIDATED THE CLASSIFIER RESULT  IN FOLD OF 10\n",
        "\n",
        "\n",
        "\n",
        "\n",
        "\n",
        "\n"
      ]
    },
    {
      "metadata": {
        "id": "sz8f9zGqfs26",
        "colab_type": "code",
        "colab": {}
      },
      "cell_type": "code",
      "source": [
        "    def crossValidate(dataset1,label1,folds):\n",
        "      cv_res=[]\n",
        "      foldSize = int(len(dataset1)/folds)\n",
        "      for i in range(0,len(dataset1),foldSize):\n",
        "        classifier = trainClassifier(dataset1[:i]+dataset1[foldSize+i:],label1[:i]+label1[foldSize+i:])\n",
        "        num_messages3,log_class_prior3=LOG_CLASS_PRIOR(label1[:i]+label1[foldSize+i:])\n",
        "        y_pred = predict(dataset1[i:i+foldSize],classifier,log_class_prior3,num_messages3)\n",
        "        true=label1[i:i+foldSize]\n",
        "        a = Accuracy(true,y_pred)\n",
        "        p = Precision(true,y_pred)\n",
        "        r = Recall(true,y_pred)\n",
        "        f = F1_SCORE(p,r)\n",
        "        cv_res.append((a,p,r,f))\n",
        "        cv_result.append((a,p,r,f))\n",
        "      cv_res = (np.mean(np.array(cv_res),axis=0))\n",
        "      \n",
        "      return cv_res"
      ],
      "execution_count": 0,
      "outputs": []
    },
    {
      "metadata": {
        "id": "b2d_Sr2Pul06",
        "colab_type": "text"
      },
      "cell_type": "markdown",
      "source": [
        "***HERE SPLIT FUNCTION IS CALLED***\n",
        "\n",
        "\n",
        "\n",
        "*   DATASET IS SPLITED INTO 80:20 RATIO OF TRAINING AND TEST SET\n",
        "\n",
        "\n",
        "\n"
      ]
    },
    {
      "metadata": {
        "id": "4XsX58VHfs3k",
        "colab_type": "code",
        "colab": {}
      },
      "cell_type": "code",
      "source": [
        "#split dataset into trainig and test data 80:20 ration\n",
        "split(0.80)"
      ],
      "execution_count": 0,
      "outputs": []
    },
    {
      "metadata": {
        "id": "h96lIYYMvsUc",
        "colab_type": "text"
      },
      "cell_type": "markdown",
      "source": [
        " ***VISUALIZATION OF TRAINING DATASET***\n"
      ]
    },
    {
      "metadata": {
        "id": "8FNSiddusD7H",
        "colab_type": "code",
        "colab": {
          "base_uri": "https://localhost:8080/",
          "height": 486
        },
        "outputId": "f311390e-502e-4d31-ee7b-ec5ef404d3ae"
      },
      "cell_type": "code",
      "source": [
        "count_real_tr=0\n",
        "count_fake_tr=0\n",
        "for x in trainData_label:\n",
        "  if x == 'REAL':\n",
        "    count_real_tr +=1\n",
        "  else:\n",
        "    count_fake_tr +=1\n",
        "\n",
        "count_rf_tr=[count_real_tr,count_fake_tr]\n",
        "\n",
        "\n",
        " \n",
        "# Data to plot\n",
        "labelss = 'REAL', 'FAKE'\n",
        "labelss1=count_real_tr,count_fake_tr\n",
        "\n",
        "colors = ['lightskyblue','yellowgreen']\n",
        "explode = (0.1, 0)  # explode 1st slice\n",
        " \n",
        "\n",
        "plt.pie(count_rf_tr, explode=explode, labels=labelss1, colors=colors,autopct='%1.1f%%', shadow=True, startangle=140)\n",
        "plt.axis('equal')\n",
        "plt.legend(labelss)\n",
        "plt.tight_layout()\n",
        "plt.show()"
      ],
      "execution_count": 20,
      "outputs": [
        {
          "output_type": "display_data",
          "data": {
            "image/png": "[encoded data removed]",
            "text/plain": [
              "<Figure size 640x480 with 1 Axes>"
            ]
          },
          "metadata": {
            "tags": []
          }
        }
      ]
    },
    {
      "metadata": {
        "id": "15W4E3dTwFiM",
        "colab_type": "text"
      },
      "cell_type": "markdown",
      "source": [
        "***VISUALIZATION OF TEST DATASET***"
      ]
    },
    {
      "metadata": {
        "id": "Nj75Reb3wKsv",
        "colab_type": "code",
        "colab": {
          "base_uri": "https://localhost:8080/",
          "height": 486
        },
        "outputId": "5a3f3cad-07c3-4aff-be16-8f95de347a59"
      },
      "cell_type": "code",
      "source": [
        "count_real_te=0\n",
        "count_fake_te=0\n",
        "for x in testData_label:\n",
        "  if x == 'REAL':\n",
        "    count_real_te +=1\n",
        "  else:\n",
        "    count_fake_te +=1\n",
        "\n",
        "count_rf_te=[count_real_te,count_fake_te]\n",
        "\n",
        "\n",
        " \n",
        "# Data to plot\n",
        "labelss = 'REAL', 'FAKE'\n",
        "labelss1=count_real_te,count_fake_te\n",
        "colors = ['lightskyblue','yellowgreen']\n",
        "explode = (0.1, 0)  # explode 1st slice\n",
        " \n",
        "\n",
        "plt.pie(count_rf_te, explode=explode, labels=labelss1, colors=colors,autopct='%1.1f%%', shadow=True, startangle=140)\n",
        "plt.axis('equal')\n",
        "plt.legend(labelss)\n",
        "plt.tight_layout()\n",
        "plt.show()"
      ],
      "execution_count": 21,
      "outputs": [
        {
          "output_type": "display_data",
          "data": {
            "image/png": "[encoded data removed]",
            "text/plain": [
              "<Figure size 640x480 with 1 Axes>"
            ]
          },
          "metadata": {
            "tags": []
          }
        }
      ]
    },
    {
      "metadata": {
        "id": "F8x0vj__uqyi",
        "colab_type": "text"
      },
      "cell_type": "markdown",
      "source": [
        "***HERE CROSS VALIDATATION FUNCTION IS CALLED***\n",
        "\n",
        "\n",
        "\n",
        "\n"
      ]
    },
    {
      "metadata": {
        "id": "eNfrXLjXxJFp",
        "colab_type": "code",
        "colab": {}
      },
      "cell_type": "code",
      "source": [
        "#cross validation result \n",
        "CV_RESULT=crossValidate(trainData,trainData_label,10)\n"
      ],
      "execution_count": 0,
      "outputs": []
    },
    {
      "metadata": {
        "id": "lONwh0GYASdj",
        "colab_type": "text"
      },
      "cell_type": "markdown",
      "source": [
        "***MEAN OF  10 FOLD CROSS VALIDATON RESULT***"
      ]
    },
    {
      "metadata": {
        "id": "8VnhGoCFAOFQ",
        "colab_type": "code",
        "colab": {
          "base_uri": "https://localhost:8080/",
          "height": 34
        },
        "outputId": "818f8cc0-99a1-49b8-dd9c-65669a684d1f"
      },
      "cell_type": "code",
      "source": [
        "print(\"Mean of cross-validations (Accuracy, Precision, Recall, F1score): \",CV_RESULT )\n"
      ],
      "execution_count": 23,
      "outputs": [
        {
          "output_type": "stream",
          "text": [
            "Mean of cross-validations (Accuracy, Precision, Recall, F1score):  [0.95892857 0.99516563 0.9216741  0.94149218]\n"
          ],
          "name": "stdout"
        }
      ]
    },
    {
      "metadata": {
        "id": "yixM_PmRtanO",
        "colab_type": "text"
      },
      "cell_type": "markdown",
      "source": [
        "***VISUALIZATION OF 10 FOLD CROSS VALIDATION RESULT ON TRAINING DATA SET***"
      ]
    },
    {
      "metadata": {
        "id": "nsK4-lSj140J",
        "colab_type": "code",
        "outputId": "92463104-7e44-40e1-906d-5100a8ac8126",
        "colab": {
          "base_uri": "https://localhost:8080/",
          "height": 452
        }
      },
      "cell_type": "code",
      "source": [
        "objects = ('Accuracy', 'Precision', 'Recall', 'F1_score')\n",
        "\n",
        "performance = CV_RESULT\n",
        "bar_width=0.3\n",
        "rects1 = plt.bar(objects, performance,bar_width ,alpha=0.8,color='b',)\n",
        " \n",
        "plt.xticks(objects, objects)\n",
        "plt.ylabel('Score')\n",
        "plt.title('Evaluation 10 fold Cross Validation on Training Dataset ')\n",
        "\n",
        "\n",
        "plt.show()"
      ],
      "execution_count": 24,
      "outputs": [
        {
          "output_type": "display_data",
          "data": {
            "image/png": "[encoded data removed]",
            "text/plain": [
              "<Figure size 640x480 with 1 Axes>"
            ]
          },
          "metadata": {
            "tags": []
          }
        }
      ]
    },
    {
      "metadata": {
        "id": "k9P3Z0lbuyAc",
        "colab_type": "text"
      },
      "cell_type": "markdown",
      "source": [
        "***HERE TESTING IS PERFORMED ON TEST SET***"
      ]
    },
    {
      "metadata": {
        "id": "gbCU-sK9fs6J",
        "colab_type": "code",
        "outputId": "bd4896e3-36a4-4ccd-b80c-e8ba876eb33c",
        "colab": {
          "base_uri": "https://localhost:8080/",
          "height": 87
        }
      },
      "cell_type": "code",
      "source": [
        "# Testing test data\n",
        "\n",
        "num_messages,log_class_priors=LOG_CLASS_PRIOR(trainData_label)\n",
        "pred1=predict(testData,word_counts,log_class_priors,num_messages)\n",
        "true1= testData_label\n",
        "acc = Accuracy(true1,pred1)\n",
        "pre = Precision(true1,pred1)\n",
        "rec = Recall(true1,pred1)\n",
        "f1 = F1_SCORE(pre,rec)\n",
        "Test_result=[acc,pre,rec,f1]\n",
        "print(acc)\n",
        "print(pre)\n",
        "print(rec)\n",
        "print(f1)\n"
      ],
      "execution_count": 25,
      "outputs": [
        {
          "output_type": "stream",
          "text": [
            "0.6580952380952381\n",
            "0.9011627906976745\n",
            "0.3645343367826905\n",
            "0.5190890823844608\n"
          ],
          "name": "stdout"
        }
      ]
    },
    {
      "metadata": {
        "id": "BUH04MFctknC",
        "colab_type": "text"
      },
      "cell_type": "markdown",
      "source": [
        "***VISUALIZATION OF PREDICTION RESULT ON TEST DATA SET***"
      ]
    },
    {
      "metadata": {
        "id": "JvdiijBmch-y",
        "colab_type": "code",
        "colab": {
          "base_uri": "https://localhost:8080/",
          "height": 452
        },
        "outputId": "4bfcd75b-020c-4006-81e4-26c19f51131e"
      },
      "cell_type": "code",
      "source": [
        "objects = ('Accuracy', 'Precision', 'Recall', 'F1_score')\n",
        "\n",
        "performance = Test_result\n",
        "bar_width=0.3\n",
        "rects1 = plt.bar(objects, performance,bar_width ,alpha=0.8,color='b',)\n",
        " \n",
        "\n",
        "plt.xticks(objects, objects)\n",
        "plt.ylabel('Score')\n",
        "plt.title('Evaluation of Test Data ')\n",
        "\n",
        "\n",
        "plt.show()"
      ],
      "execution_count": 26,
      "outputs": [
        {
          "output_type": "display_data",
          "data": {
            "image/png": "[encoded data removed]",
            "text/plain": [
              "<Figure size 640x480 with 1 Axes>"
            ]
          },
          "metadata": {
            "tags": []
          }
        }
      ]
    },
    {
      "metadata": {
        "id": "MM5bvWRw-_9h",
        "colab_type": "text"
      },
      "cell_type": "markdown",
      "source": [
        "***10 FOLD  CROSS VALIDATION RESULT ON TESTDATA SET ***"
      ]
    },
    {
      "metadata": {
        "id": "CNHpiJwh14xQ",
        "colab_type": "code",
        "outputId": "72c00c3f-2032-4ff5-cd75-6e3d8602056d",
        "colab": {
          "base_uri": "https://localhost:8080/",
          "height": 34
        }
      },
      "cell_type": "code",
      "source": [
        "TEST_RESULT=crossValidate(testData,testData_label,10)\n",
        "print(\"Mean of cross-validations (Accuracy, Precision, Recall, F1score): \",TEST_RESULT)\n"
      ],
      "execution_count": 27,
      "outputs": [
        {
          "output_type": "stream",
          "text": [
            "Mean of cross-validations (Accuracy, Precision, Recall, F1score):  [0.95380952 0.98035329 0.91341803 0.93690644]\n"
          ],
          "name": "stdout"
        }
      ]
    },
    {
      "metadata": {
        "id": "9fmyAXNotuOs",
        "colab_type": "text"
      },
      "cell_type": "markdown",
      "source": [
        "***VISUALIZATION OF 10 FOLD CROSS VALIDATION RESULT ON TEST DATA SET***"
      ]
    },
    {
      "metadata": {
        "id": "IzGRuMHKZdTI",
        "colab_type": "code",
        "colab": {
          "base_uri": "https://localhost:8080/",
          "height": 452
        },
        "outputId": "be0ff341-86c0-4509-cf28-54a160b47ce0"
      },
      "cell_type": "code",
      "source": [
        "objects = ('Accuracy', 'Precision', 'Recall', 'F1_score')\n",
        "\n",
        "performance = TEST_RESULT\n",
        "bar_width=0.3\n",
        "rects1 = plt.bar(objects, performance,bar_width ,alpha=0.8,color='b',)\n",
        " \n",
        "\n",
        "plt.xticks(objects, objects)\n",
        "plt.ylabel('Score')\n",
        "plt.title('Evaluation 10 fold Cross Validation on Test Data ')\n",
        "\n",
        "\n",
        "plt.show()"
      ],
      "execution_count": 28,
      "outputs": [
        {
          "output_type": "display_data",
          "data": {
            "image/png": "[encoded data removed]",
            "text/plain": [
              "<Figure size 640x480 with 1 Axes>"
            ]
          },
          "metadata": {
            "tags": []
          }
        }
      ]
    },
    {
      "metadata": {
        "id": "WKcer6wtciOB",
        "colab_type": "code",
        "colab": {}
      },
      "cell_type": "code",
      "source": [
        ""
      ],
      "execution_count": 0,
      "outputs": []
    }
  ]
}